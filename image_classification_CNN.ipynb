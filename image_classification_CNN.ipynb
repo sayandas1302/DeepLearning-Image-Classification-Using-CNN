{
  "cells": [
    {
      "cell_type": "markdown",
      "metadata": {
        "id": "o-toI562UqDS"
      },
      "source": [
        "## Project Name: Image Classification with CNN\n",
        "In this project we are going to classify images of several  object and animals. We are going to apply a famous deep learning model called as Convolutional Neural Network or more commonly known as CNN."
      ]
    },
    {
      "cell_type": "markdown",
      "metadata": {
        "id": "3ZoGRJcvU27L"
      },
      "source": [
        "### Calling the libraries"
      ]
    },
    {
      "cell_type": "code",
      "execution_count": null,
      "metadata": {
        "id": "tHs3strRUKqu"
      },
      "outputs": [],
      "source": [
        "import numpy as np\n",
        "import pandas as pd\n",
        "import tensorflow as tf\n",
        "from tensorflow import keras\n",
        "import warnings\n",
        "\n",
        "warnings.filterwarnings('ignore')"
      ]
    },
    {
      "cell_type": "markdown",
      "metadata": {
        "id": "oULdGOciVPv8"
      },
      "source": [
        "### Calling the Datasets"
      ]
    },
    {
      "cell_type": "code",
      "execution_count": null,
      "metadata": {
        "colab": {
          "base_uri": "https://localhost:8080/"
        },
        "id": "zviZN4m_VOdS",
        "outputId": "01c1764c-fdd5-4a8c-e304-b135ee1c3f51"
      },
      "outputs": [
        {
          "name": "stdout",
          "output_type": "stream",
          "text": [
            "Downloading data from https://www.cs.toronto.edu/~kriz/cifar-10-python.tar.gz\n",
            "170500096/170498071 [==============================] - 2s 0us/step\n",
            "170508288/170498071 [==============================] - 2s 0us/step\n"
          ]
        }
      ],
      "source": [
        "(X_train, y_train), (X_test, y_test) = keras.datasets.cifar10.load_data()"
      ]
    },
    {
      "cell_type": "code",
      "execution_count": null,
      "metadata": {
        "id": "SAh4mpiIY5DT"
      },
      "outputs": [],
      "source": [
        "classes = ['airplane','automobile', 'bird', 'cat', 'deer', 'dog', 'frog', 'horse', 'ship', 'truck']"
      ]
    },
    {
      "cell_type": "code",
      "execution_count": null,
      "metadata": {
        "colab": {
          "base_uri": "https://localhost:8080/"
        },
        "id": "KxW0_ZOGXBiC",
        "outputId": "8e52c337-818b-400a-ebcd-a07df9d83cd7"
      },
      "outputs": [
        {
          "name": "stdout",
          "output_type": "stream",
          "text": [
            "\n",
            "X_train: (50000, 32, 32, 3)\n",
            "y_train: (50000, 1)\n",
            "X_test: (10000, 32, 32, 3)\n",
            "y_test: (10000, 1)\n",
            "\n"
          ]
        }
      ],
      "source": [
        "# lets see the shape of the dataset\n",
        "print(f'''\n",
        "X_train: {X_train.shape}\n",
        "y_train: {y_train.shape}\n",
        "X_test: {X_test.shape}\n",
        "y_test: {y_test.shape}\n",
        "''')"
      ]
    },
    {
      "cell_type": "code",
      "execution_count": null,
      "metadata": {
        "id": "dFL1U-dtXbe7"
      },
      "outputs": [],
      "source": [
        "# let's check out individual values of the dataset\n",
        "\n",
        "import matplotlib.pyplot as plt\n",
        "\n",
        "def show_sample(X, y, index):\n",
        "    plt.figure(figsize=(15,2))\n",
        "    plt.imshow(X[index])\n",
        "    plt.title(classes[y[index]])"
      ]
    },
    {
      "cell_type": "code",
      "execution_count": null,
      "metadata": {
        "id": "Oj5rhI9xYOKS"
      },
      "outputs": [],
      "source": [
        "y_train = y_train.reshape(-1,)\n",
        "y_test = y_test.reshape(-1,)"
      ]
    },
    {
      "cell_type": "code",
      "execution_count": null,
      "metadata": {
        "colab": {
          "base_uri": "https://localhost:8080/",
          "height": 173
        },
        "id": "AR6GLqGSYn_D",
        "outputId": "562294a0-cf19-4157-b1fa-d741b1f37d8a"
      },
      "outputs": [
        {
          "data": {
            "image/png": "[encoded data removed]",
            "text/plain": [
              "<Figure size 1080x144 with 1 Axes>"
            ]
          },
          "metadata": {
            "needs_background": "light"
          },
          "output_type": "display_data"
        }
      ],
      "source": [
        "show_sample(X_train, y_train, 0)"
      ]
    },
    {
      "cell_type": "code",
      "execution_count": null,
      "metadata": {
        "colab": {
          "base_uri": "https://localhost:8080/",
          "height": 173
        },
        "id": "_6Gkv6V8Zv2z",
        "outputId": "177eff67-b98e-4347-892a-efecc474fd68"
      },
      "outputs": [
        {
          "data": {
            "image/png": "[encoded data removed]",
            "text/plain": [
              "<Figure size 1080x144 with 1 Axes>"
            ]
          },
          "metadata": {
            "needs_background": "light"
          },
          "output_type": "display_data"
        }
      ],
      "source": [
        "show_sample(X_train, y_train, 1)"
      ]
    },
    {
      "cell_type": "code",
      "execution_count": null,
      "metadata": {
        "id": "-AmnrZVLaYmL"
      },
      "outputs": [],
      "source": [
        "# normalizing the values\n",
        "X_train = X_train/255\n",
        "X_test = X_test/255"
      ]
    },
    {
      "cell_type": "markdown",
      "metadata": {
        "id": "ESqCMdX3bbrs"
      },
      "source": [
        "### Applying the CNN"
      ]
    },
    {
      "cell_type": "code",
      "execution_count": null,
      "metadata": {
        "colab": {
          "base_uri": "https://localhost:8080/"
        },
        "id": "3JUcbdH7anK0",
        "outputId": "40088faf-abf9-4822-bea8-6b397bde54bf"
      },
      "outputs": [
        {
          "name": "stdout",
          "output_type": "stream",
          "text": [
            "Epoch 1/10\n",
            "1563/1563 [==============================] - 7s 4ms/step - loss: 1.4569 - accuracy: 0.4730\n",
            "Epoch 2/10\n",
            "1563/1563 [==============================] - 6s 4ms/step - loss: 1.1231 - accuracy: 0.6067\n",
            "Epoch 3/10\n",
            "1563/1563 [==============================] - 6s 4ms/step - loss: 0.9881 - accuracy: 0.6556\n",
            "Epoch 4/10\n",
            "1563/1563 [==============================] - 7s 5ms/step - loss: 0.9027 - accuracy: 0.6868\n",
            "Epoch 5/10\n",
            "1563/1563 [==============================] - 6s 4ms/step - loss: 0.8373 - accuracy: 0.7103\n",
            "Epoch 6/10\n",
            "1563/1563 [==============================] - 6s 4ms/step - loss: 0.7826 - accuracy: 0.7288\n",
            "Epoch 7/10\n",
            "1563/1563 [==============================] - 6s 4ms/step - loss: 0.7340 - accuracy: 0.7441\n",
            "Epoch 8/10\n",
            "1563/1563 [==============================] - 6s 4ms/step - loss: 0.6882 - accuracy: 0.7614\n",
            "Epoch 9/10\n",
            "1563/1563 [==============================] - 6s 4ms/step - loss: 0.6488 - accuracy: 0.7750\n",
            "Epoch 10/10\n",
            "1563/1563 [==============================] - 6s 4ms/step - loss: 0.6061 - accuracy: 0.7885\n"
          ]
        },
        {
          "data": {
            "text/plain": [
              "<keras.callbacks.History at 0x7f08900a20d0>"
            ]
          },
          "execution_count": 22,
          "metadata": {},
          "output_type": "execute_result"
        }
      ],
      "source": [
        "cnn = keras.Sequential([\n",
        "    # cnn\n",
        "    keras.layers.Conv2D(filters=32, kernel_size=(3,3), activation='relu',  input_shape=(32, 32, 3)),\n",
        "    keras.layers.MaxPool2D(2,2),\n",
        "    \n",
        "    keras.layers.Conv2D(filters=64, kernel_size=(3,3), activation='relu',  input_shape=(32, 32, 3)),\n",
        "    keras.layers.MaxPool2D(2,2),\n",
        "\n",
        "    # dense layer\n",
        "    keras.layers.Flatten(),\n",
        "    keras.layers.Dense(64, activation='relu'),\n",
        "    keras.layers.Dense(10, activation='softmax')\n",
        "])\n",
        "\n",
        "cnn.compile(optimizer='adam',\n",
        "            loss='sparse_categorical_crossentropy',\n",
        "            metrics=['accuracy'])\n",
        "\n",
        "cnn.fit(X_train, y_train, epochs=10)"
      ]
    },
    {
      "cell_type": "code",
      "execution_count": null,
      "metadata": {
        "colab": {
          "base_uri": "https://localhost:8080/"
        },
        "id": "6lZObmsqfGde",
        "outputId": "4b09b40f-bf3d-49f7-edb7-68d7371a8b8b"
      },
      "outputs": [
        {
          "name": "stdout",
          "output_type": "stream",
          "text": [
            "313/313 [==============================] - 1s 3ms/step - loss: 0.9434 - accuracy: 0.7006\n"
          ]
        },
        {
          "data": {
            "text/plain": [
              "[0.9433887600898743, 0.7006000280380249]"
            ]
          },
          "execution_count": 23,
          "metadata": {},
          "output_type": "execute_result"
        }
      ],
      "source": [
        "cnn.evaluate(X_test, y_test)"
      ]
    },
    {
      "cell_type": "markdown",
      "metadata": {
        "id": "3wvsEAcmf60G"
      },
      "source": [
        "### Prediction"
      ]
    },
    {
      "cell_type": "code",
      "execution_count": null,
      "metadata": {
        "colab": {
          "base_uri": "https://localhost:8080/",
          "height": 173
        },
        "id": "ubpNCkIyfjAt",
        "outputId": "df07812e-0305-41d6-9619-bdd83636fd75"
      },
      "outputs": [
        {
          "data": {
            "image/png": "[encoded data removed]",
            "text/plain": [
              "<Figure size 1080x144 with 1 Axes>"
            ]
          },
          "metadata": {
            "needs_background": "light"
          },
          "output_type": "display_data"
        }
      ],
      "source": [
        "# original\n",
        "show_sample(X_test, y_test, 0)"
      ]
    },
    {
      "cell_type": "code",
      "execution_count": null,
      "metadata": {
        "colab": {
          "base_uri": "https://localhost:8080/",
          "height": 36
        },
        "id": "dIlfK80XgBtm",
        "outputId": "60947a97-b116-48ed-a2d6-6c44f7606850"
      },
      "outputs": [
        {
          "data": {
            "application/vnd.google.colaboratory.intrinsic+json": {
              "type": "string"
            },
            "text/plain": [
              "'cat'"
            ]
          },
          "execution_count": 29,
          "metadata": {},
          "output_type": "execute_result"
        }
      ],
      "source": [
        "# predicted \n",
        "classes[np.argmax(cnn.predict(X_test[0].reshape(1,32,32,3)))]"
      ]
    },
    {
      "cell_type": "markdown",
      "metadata": {
        "id": "U5GMN5VbiKkO"
      },
      "source": [
        "### Model Performance"
      ]
    },
    {
      "cell_type": "code",
      "execution_count": null,
      "metadata": {
        "colab": {
          "base_uri": "https://localhost:8080/"
        },
        "id": "fwwLlPIPiaG2",
        "outputId": "72169273-915f-4567-c80a-963235a2c2e5"
      },
      "outputs": [
        {
          "data": {
            "text/plain": [
              "array([3, 8, 8, 0, 6], dtype=uint8)"
            ]
          },
          "execution_count": 30,
          "metadata": {},
          "output_type": "execute_result"
        }
      ],
      "source": [
        "y_test[:5]"
      ]
    },
    {
      "cell_type": "code",
      "execution_count": null,
      "metadata": {
        "colab": {
          "base_uri": "https://localhost:8080/"
        },
        "id": "9jZGRHqUiPmG",
        "outputId": "a4fd19ec-6df1-4776-b494-263fe86309fd"
      },
      "outputs": [
        {
          "data": {
            "text/plain": [
              "[3, 8, 8, 0, 3]"
            ]
          },
          "execution_count": 32,
          "metadata": {},
          "output_type": "execute_result"
        }
      ],
      "source": [
        "y_pred = [np.argmax(x) for x in cnn.predict(X_test)]\n",
        "y_pred[:5]"
      ]
    },
    {
      "cell_type": "code",
      "execution_count": null,
      "metadata": {
        "colab": {
          "base_uri": "https://localhost:8080/"
        },
        "id": "U6ZfWmjPkmWu",
        "outputId": "264e9f2d-38d4-433d-af43-d2703eab99be"
      },
      "outputs": [
        {
          "name": "stdout",
          "output_type": "stream",
          "text": [
            "Classification Report: \n",
            "               precision    recall  f1-score   support\n",
            "\n",
            "           0       0.68      0.82      0.74      1000\n",
            "           1       0.80      0.85      0.82      1000\n",
            "           2       0.68      0.54      0.60      1000\n",
            "           3       0.50      0.52      0.51      1000\n",
            "           4       0.73      0.58      0.65      1000\n",
            "           5       0.50      0.73      0.59      1000\n",
            "           6       0.82      0.75      0.78      1000\n",
            "           7       0.80      0.71      0.75      1000\n",
            "           8       0.79      0.83      0.81      1000\n",
            "           9       0.88      0.67      0.76      1000\n",
            "\n",
            "    accuracy                           0.70     10000\n",
            "   macro avg       0.72      0.70      0.70     10000\n",
            "weighted avg       0.72      0.70      0.70     10000\n",
            "\n"
          ]
        }
      ],
      "source": [
        "# let's find out the classification report\n",
        "\n",
        "from sklearn.metrics import classification_report\n",
        "\n",
        "cr = classification_report(y_test, y_pred)\n",
        "print(f'Classification Report: \\n {cr}')"
      ]
    },
    {
      "cell_type": "code",
      "execution_count": null,
      "metadata": {
        "colab": {
          "base_uri": "https://localhost:8080/",
          "height": 482
        },
        "id": "K2JOQeedlOK9",
        "outputId": "da1506ab-51e4-445f-9e97-2e8339a1122b"
      },
      "outputs": [
        {
          "data": {
            "text/plain": [
              "Text(0.5, 1.0, 'Confusion Matrix')"
            ]
          },
          "execution_count": 41,
          "metadata": {},
          "output_type": "execute_result"
        },
        {
          "data": {
            "image/png": "[encoded data removed]",
            "text/plain": [
              "<Figure size 720x504 with 2 Axes>"
            ]
          },
          "metadata": {},
          "output_type": "display_data"
        }
      ],
      "source": [
        "# we will also find out the confusion matrix\n",
        "from sklearn.metrics import confusion_matrix\n",
        "import seaborn as sns\n",
        "\n",
        "cm = confusion_matrix(y_test, y_pred)\n",
        "\n",
        "sns.set(rc={'figure.figsize':(10,7)})\n",
        "sns.heatmap(cm, annot=True, fmt='g', cmap='Blues')\n",
        "plt.xlabel('Predicted')\n",
        "plt.ylabel('Actuall')\n",
        "plt.title('Confusion Matrix')\n"
      ]
    }
  ],
  "metadata": {
    "accelerator": "GPU",
    "colab": {
      "collapsed_sections": [],
      "name": "image_classification_CNN.ipynb",
      "provenance": []
    },
    "gpuClass": "standard",
    "kernelspec": {
      "display_name": "Python 3.10.5 64-bit",
      "language": "python",
      "name": "python3"
    },
    "language_info": {
      "name": "python",
      "version": "3.10.5"
    },
    "vscode": {
      "interpreter": {
        "hash": "818ab1b333d514b2689774a5453190e2819c65cc801bc05b684ace9b1fb67592"
      }
    }
  },
  "nbformat": 4,
  "nbformat_minor": 0
}
